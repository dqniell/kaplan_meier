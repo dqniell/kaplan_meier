{
  "nbformat": 4,
  "nbformat_minor": 0,
  "metadata": {
    "colab": {
      "provenance": [],
      "include_colab_link": true
    },
    "kernelspec": {
      "name": "python3",
      "display_name": "Python 3"
    },
    "language_info": {
      "name": "python"
    }
  },
  "cells": [
    {
      "cell_type": "markdown",
      "metadata": {
        "id": "view-in-github",
        "colab_type": "text"
      },
      "source": [
        "<a href=\"https://colab.research.google.com/github/dqniell/kaplan_meier/blob/main/kaplan_meier_blank.ipynb\" target=\"_parent\"><img src=\"https://colab.research.google.com/assets/colab-badge.svg\" alt=\"Open In Colab\"/></a>"
      ]
    },
    {
      "cell_type": "code",
      "source": [
        "!pip install lifelines\n"
      ],
      "metadata": {
        "id": "_qPnA7FeY36Z",
        "colab": {
          "base_uri": "https://localhost:8080/"
        },
        "outputId": "43e34c2b-a69c-478c-a856-6f2634b17a5d"
      },
      "execution_count": null,
      "outputs": [
        {
          "output_type": "stream",
          "name": "stdout",
          "text": [
            "Collecting lifelines\n",
            "  Downloading lifelines-0.30.0-py3-none-any.whl.metadata (3.2 kB)\n",
            "Requirement already satisfied: numpy>=1.14.0 in /usr/local/lib/python3.10/dist-packages (from lifelines) (1.26.4)\n",
            "Requirement already satisfied: scipy>=1.7.0 in /usr/local/lib/python3.10/dist-packages (from lifelines) (1.13.1)\n",
            "Requirement already satisfied: pandas>=2.1 in /usr/local/lib/python3.10/dist-packages (from lifelines) (2.2.2)\n",
            "Requirement already satisfied: matplotlib>=3.0 in /usr/local/lib/python3.10/dist-packages (from lifelines) (3.8.0)\n",
            "Requirement already satisfied: autograd>=1.5 in /usr/local/lib/python3.10/dist-packages (from lifelines) (1.7.0)\n",
            "Collecting autograd-gamma>=0.3 (from lifelines)\n",
            "  Downloading autograd-gamma-0.5.0.tar.gz (4.0 kB)\n",
            "  Preparing metadata (setup.py) ... \u001b[?25l\u001b[?25hdone\n",
            "Collecting formulaic>=0.2.2 (from lifelines)\n",
            "  Downloading formulaic-1.0.2-py3-none-any.whl.metadata (6.8 kB)\n",
            "Collecting interface-meta>=1.2.0 (from formulaic>=0.2.2->lifelines)\n",
            "  Downloading interface_meta-1.3.0-py3-none-any.whl.metadata (6.7 kB)\n",
            "Requirement already satisfied: typing-extensions>=4.2.0 in /usr/local/lib/python3.10/dist-packages (from formulaic>=0.2.2->lifelines) (4.12.2)\n",
            "Requirement already satisfied: wrapt>=1.0 in /usr/local/lib/python3.10/dist-packages (from formulaic>=0.2.2->lifelines) (1.16.0)\n",
            "Requirement already satisfied: contourpy>=1.0.1 in /usr/local/lib/python3.10/dist-packages (from matplotlib>=3.0->lifelines) (1.3.0)\n",
            "Requirement already satisfied: cycler>=0.10 in /usr/local/lib/python3.10/dist-packages (from matplotlib>=3.0->lifelines) (0.12.1)\n",
            "Requirement already satisfied: fonttools>=4.22.0 in /usr/local/lib/python3.10/dist-packages (from matplotlib>=3.0->lifelines) (4.54.1)\n",
            "Requirement already satisfied: kiwisolver>=1.0.1 in /usr/local/lib/python3.10/dist-packages (from matplotlib>=3.0->lifelines) (1.4.7)\n",
            "Requirement already satisfied: packaging>=20.0 in /usr/local/lib/python3.10/dist-packages (from matplotlib>=3.0->lifelines) (24.1)\n",
            "Requirement already satisfied: pillow>=6.2.0 in /usr/local/lib/python3.10/dist-packages (from matplotlib>=3.0->lifelines) (10.4.0)\n",
            "Requirement already satisfied: pyparsing>=2.3.1 in /usr/local/lib/python3.10/dist-packages (from matplotlib>=3.0->lifelines) (3.2.0)\n",
            "Requirement already satisfied: python-dateutil>=2.7 in /usr/local/lib/python3.10/dist-packages (from matplotlib>=3.0->lifelines) (2.8.2)\n",
            "Requirement already satisfied: pytz>=2020.1 in /usr/local/lib/python3.10/dist-packages (from pandas>=2.1->lifelines) (2024.2)\n",
            "Requirement already satisfied: tzdata>=2022.7 in /usr/local/lib/python3.10/dist-packages (from pandas>=2.1->lifelines) (2024.2)\n",
            "Requirement already satisfied: six>=1.5 in /usr/local/lib/python3.10/dist-packages (from python-dateutil>=2.7->matplotlib>=3.0->lifelines) (1.16.0)\n",
            "Downloading lifelines-0.30.0-py3-none-any.whl (349 kB)\n",
            "\u001b[2K   \u001b[90m━━━━━━━━━━━━━━━━━━━━━━━━━━━━━━━━━━━━━━━━\u001b[0m \u001b[32m349.3/349.3 kB\u001b[0m \u001b[31m5.7 MB/s\u001b[0m eta \u001b[36m0:00:00\u001b[0m\n",
            "\u001b[?25hDownloading formulaic-1.0.2-py3-none-any.whl (94 kB)\n",
            "\u001b[2K   \u001b[90m━━━━━━━━━━━━━━━━━━━━━━━━━━━━━━━━━━━━━━━━\u001b[0m \u001b[32m94.5/94.5 kB\u001b[0m \u001b[31m4.8 MB/s\u001b[0m eta \u001b[36m0:00:00\u001b[0m\n",
            "\u001b[?25hDownloading interface_meta-1.3.0-py3-none-any.whl (14 kB)\n",
            "Building wheels for collected packages: autograd-gamma\n",
            "  Building wheel for autograd-gamma (setup.py) ... \u001b[?25l\u001b[?25hdone\n",
            "  Created wheel for autograd-gamma: filename=autograd_gamma-0.5.0-py3-none-any.whl size=4031 sha256=8f2c9d4d71b89a458df2871c7e9764f6a39987ffd7365bd8741e2aeb908673ba\n",
            "  Stored in directory: /root/.cache/pip/wheels/25/cc/e0/ef2969164144c899fedb22b338f6703e2b9cf46eeebf254991\n",
            "Successfully built autograd-gamma\n",
            "Installing collected packages: interface-meta, autograd-gamma, formulaic, lifelines\n",
            "Successfully installed autograd-gamma-0.5.0 formulaic-1.0.2 interface-meta-1.3.0 lifelines-0.30.0\n"
          ]
        }
      ]
    },
    {
      "cell_type": "markdown",
      "source": [
        "## Kaplan-Meier Analysis for COMPAS Recidivism Predictions\n",
        "\n",
        "Objectives:\n",
        "\n",
        "1. Compare survival probabilities (recidivism rates) by COMPAS risk score levels (Low, Medium, High).\n",
        "2. Explore recidivism rates by gender and race.\n",
        "3. Analyze survival curves to observe disparities between groups over a two-year observation period.\n",
        "\n",
        "We are using the COMPAS risk scores as a measure to evaluate recidivism predictions. The Kaplan-Meier analysis allows us to estimate the probability of \"surviving\" (not reoffending) over time and comparing survival rates between different subgroups."
      ],
      "metadata": {
        "id": "AfQd-ujq8iAd"
      }
    },
    {
      "cell_type": "code",
      "execution_count": null,
      "metadata": {
        "id": "MRxR1PNoOYd0",
        "colab": {
          "base_uri": "https://localhost:8080/"
        },
        "outputId": "29ab5215-de1e-46ab-b5f9-c831d0350979"
      },
      "outputs": [
        {
          "output_type": "stream",
          "name": "stdout",
          "text": [
            "Drive already mounted at /content/drive; to attempt to forcibly remount, call drive.mount(\"/content/drive\", force_remount=True).\n"
          ]
        }
      ],
      "source": [
        "import pandas as pd\n",
        "import numpy as np\n",
        "import seaborn as sns\n",
        "\n",
        "from google.colab import drive\n",
        "\n",
        "drive.mount('/content/drive')"
      ]
    },
    {
      "cell_type": "markdown",
      "source": [
        "## Exercise 1: Connect to the Database and Explore Tables\n",
        "\n",
        "Connect to the `compas.db` SQLite database and examine its structure. Our goal is to identify which tables contain relevant data for Kaplan-Meier analysis.\n",
        "\n",
        "1. **Connect** to the database file.\n",
        "2. **List all tables** in the database to see the structure.\n",
        "3. **Preview the contents** of each table to understand the available fields."
      ],
      "metadata": {
        "id": "W9kcNZEZANFJ"
      }
    },
    {
      "cell_type": "code",
      "source": [
        "import sqlite3\n",
        "\n",
        "# TODO: Connect to the database\n",
        "conn = sqlite3.connect('/content/drive/MyDrive/compas.db')\n",
        "\n",
        "# List all tables in the database\n",
        "query = \"SELECT name FROM sqlite_master WHERE type='table';\"\n",
        "tables = pd.read_sql(query, conn)\n",
        "print(\"Tables in database:\")\n",
        "\n",
        "# TODO: Print out the tables to see their names\n",
        "print(tables)"
      ],
      "metadata": {
        "id": "L-PSTDx6_J1U",
        "colab": {
          "base_uri": "https://localhost:8080/"
        },
        "outputId": "cb4d74ac-1132-48d6-dc1d-36b782515383"
      },
      "execution_count": null,
      "outputs": [
        {
          "output_type": "stream",
          "name": "stdout",
          "text": [
            "Tables in database:\n",
            "            name\n",
            "0     casearrest\n",
            "1  prisonhistory\n",
            "2    jailhistory\n",
            "3         compas\n",
            "4        summary\n",
            "5         charge\n",
            "6         people\n"
          ]
        }
      ]
    },
    {
      "cell_type": "code",
      "source": [
        "# Define a function to preview the first few rows of each table\n",
        "def preview_table(table_name, conn, limit=5):\n",
        "    query = f\"SELECT * FROM {table_name} LIMIT {limit};\"\n",
        "    return pd.read_sql(query, conn)\n",
        "\n",
        "# Preview the structure and contents of each table\n",
        "table_previews = {table: preview_table(table, conn) for table in tables['name']}\n",
        "\n",
        "# TODO: Print out the table_previews to visualize their contents\n",
        "print(table_previews)"
      ],
      "metadata": {
        "id": "zJcQQ3o9_im0",
        "colab": {
          "base_uri": "https://localhost:8080/"
        },
        "outputId": "6b09a60c-4824-4c3c-fc04-877f8b7005a1"
      },
      "execution_count": null,
      "outputs": [
        {
          "output_type": "stream",
          "name": "stdout",
          "text": [
            "{'casearrest':    id              name    case_number arrest_id                 arrest_date  \\\n",
            "0   1  aajah herrington  13005832CF10A   3026755  2013-04-23 00:00:00.000000   \n",
            "1   2  aajah herrington  13005832CF10A   3026756  2013-04-23 00:00:00.000000   \n",
            "2   3  aajah herrington  14007863MM10A   3144392  2014-05-13 00:00:00.000000   \n",
            "3   4      aaliyah lovo  13015312CF10A   3084831  2013-11-03 00:00:00.000000   \n",
            "4   5      aaliyah lovo  13015312CF10A   3084832  2013-11-03 00:00:00.000000   \n",
            "\n",
            "  charge_degree  days_since_compas_arrest  person_id  \n",
            "0          (F3)                         1        533  \n",
            "1          (M2)                         1        533  \n",
            "2          (M1)                      -384        533  \n",
            "3          (F2)                         1        900  \n",
            "4          (M1)                         1        900  , 'prisonhistory':    id  name    first middle       last                         dob  \\\n",
            "0   1  None    bilal   None   williams  1955-05-12 00:00:00.000000   \n",
            "1   2  None  eduardo   None   cisneros  1979-08-23 00:00:00.000000   \n",
            "2   3  None  brenley   None    johnson  1962-08-24 00:00:00.000000   \n",
            "3   4  None  michael   None  stenquist  1980-12-30 00:00:00.000000   \n",
            "4   5  None  andreas   None   fountain  1977-08-08 00:00:00.000000   \n",
            "\n",
            "                   in_custody                 out_custody  person_id  \n",
            "0  1986-03-13 00:00:00.000000  1987-02-19 00:00:00.000000       4813  \n",
            "1  2015-02-24 00:00:00.000000  2020-01-01 00:00:00.000000       7889  \n",
            "2  2008-03-24 00:00:00.000000  2009-01-01 00:00:00.000000       9400  \n",
            "3  2015-07-02 00:00:00.000000  2015-07-08 00:00:00.000000      11598  \n",
            "4  2006-11-21 00:00:00.000000  2007-12-19 00:00:00.000000        320  , 'jailhistory':    id   first     last                         dob  \\\n",
            "0   1  victor   lozada  1951-05-12 00:00:00.000000   \n",
            "1   2  pierre  merilus  1993-03-31 00:00:00.000000   \n",
            "2   3   diana  loubeau  1993-10-01 00:00:00.000000   \n",
            "3   4  thomas   carter  1961-01-17 00:00:00.000000   \n",
            "4   5  travis   wright  1995-01-05 00:00:00.000000   \n",
            "\n",
            "                   in_custody                 out_custody  person_id  \n",
            "0  2013-08-05 12:41:27.000000  2013-08-13 02:27:19.000000        880  \n",
            "1  2014-11-14 12:27:25.000000  2014-11-16 03:01:50.000000       2799  \n",
            "2  2014-05-01 09:46:32.000000  2014-05-02 09:39:12.000000        486  \n",
            "3  2013-05-25 05:28:09.000000  2013-05-26 08:34:54.000000       7902  \n",
            "4  2013-11-14 04:18:05.000000  2014-07-14 10:15:01.000000       3369  , 'compas':    id    first       last  compas_person_id  compas_case_id  \\\n",
            "0   1   miguel  hernandez             56418           58393   \n",
            "1   2   miguel  hernandez             56418           58393   \n",
            "2   3   miguel  hernandez             56418           58393   \n",
            "3   4  michael       ryan             68603           72042   \n",
            "4   5  michael       ryan             68603           72042   \n",
            "\n",
            "   compas_assessment_id agency_text           scale_set assessment_reason  \\\n",
            "0                 64352    PRETRIAL  Risk and Prescreen            Intake   \n",
            "1                 64352    PRETRIAL  Risk and Prescreen            Intake   \n",
            "2                 64352    PRETRIAL  Risk and Prescreen            Intake   \n",
            "3                 79669    PRETRIAL  Risk and Prescreen            Intake   \n",
            "4                 79669    PRETRIAL  Risk and Prescreen            Intake   \n",
            "\n",
            "  legal_status  ... marital_status              screening_date  \\\n",
            "0     Pretrial  ...         Single  2013-08-14 00:00:00.000000   \n",
            "1     Pretrial  ...         Single  2013-08-14 00:00:00.000000   \n",
            "2     Pretrial  ...         Single  2013-08-14 00:00:00.000000   \n",
            "3     Pretrial  ...         Single  2014-12-31 00:00:00.000000   \n",
            "4     Pretrial  ...         Single  2014-12-31 00:00:00.000000   \n",
            "\n",
            "  rec_supervision_level  rec_supervision_level_text score_text scale_id  \\\n",
            "0                     1                         Low        Low        7   \n",
            "1                     1                         Low        Low        8   \n",
            "2                     1                         Low        Low       18   \n",
            "3                     1                         Low        Low        7   \n",
            "4                     1                         Low     Medium        8   \n",
            "\n",
            "          type_of_assessment raw_score  decile_score  person_id  \n",
            "0           Risk of Violence     -4.31             1          1  \n",
            "1         Risk of Recidivism     -2.78             1          1  \n",
            "2  Risk of Failure to Appear     13.00             1          1  \n",
            "3           Risk of Violence     -2.75             2          2  \n",
            "4         Risk of Recidivism     -0.34             5          2  \n",
            "\n",
            "[5 rows x 21 columns], 'summary': Empty DataFrame\n",
            "Columns: [id, first, last, sex, race, dob, age, type_of_assessment, raw_score, decile_score, legal_status, screening_date, case_type, charge_degree, filing_date, case_number, charge, in_custody, out_custody, num_days_in_jail, recidivist, days_since_compas, prior_charge, future_charge, compas_charge, person_id]\n",
            "Index: []\n",
            "\n",
            "[0 rows x 26 columns], 'charge':    id case_type    case_number                 filing_date  \\\n",
            "0   1            13005832CF10A  1800-01-01 00:00:00.000000   \n",
            "1   2            13005832CF10A  1800-01-01 00:00:00.000000   \n",
            "2   3            14042370TC10A  1800-01-01 00:00:00.000000   \n",
            "3   4            14007863MM10A  1800-01-01 00:00:00.000000   \n",
            "4   5            11065568TI30A  1800-01-01 00:00:00.000000   \n",
            "\n",
            "                 offense_date  charge_number charge_degree  \\\n",
            "0  2013-04-23 00:00:00.000000              1          (F3)   \n",
            "1  2013-04-23 00:00:00.000000              2          (M2)   \n",
            "2  2014-11-11 00:00:00.000000              1          (M2)   \n",
            "3  2014-05-13 00:00:00.000000              1          (M1)   \n",
            "4  2011-07-03 00:00:00.000000              1           (0)   \n",
            "\n",
            "                          charge    date_charge_filed  \\\n",
            "0  Driving While License Revoked  2013-04-23 00:00:00   \n",
            "1                    Petit Theft  2013-04-23 00:00:00   \n",
            "2      Driving License Suspended  2014-11-11 00:00:00   \n",
            "3         Extradition/Defendants  2014-05-13 00:00:00   \n",
            "4     Violation Of Move Over Law  2011-07-03 00:00:00   \n",
            "\n",
            "                               filing_type           filing_agency  \\\n",
            "0  No Information/ Transfer to Misdemeanor      Fort Lauderdale PD   \n",
            "1                 Transfer to County Court      Fort Lauderdale PD   \n",
            "2                                     None      Fort Lauderdale PD   \n",
            "3                                 Fugitive      Fort Lauderdale PD   \n",
            "4                                     None  Broward Sheriff Office   \n",
            "\n",
            "               name  days_since_compas         statute  person_id  \n",
            "0  aajah herrington                  1       322.34(5)        533  \n",
            "1  aajah herrington                  1   812.014(3)(a)        533  \n",
            "2  aajah herrington               -566       322.34(2)        533  \n",
            "3  aajah herrington               -384          941.02        533  \n",
            "4  aajah herrington                661  316.126(1)(B)1        533  , 'people':    id              name    first       last   sex              race  \\\n",
            "0   1  miguel hernandez   miguel  hernandez  Male             Other   \n",
            "1   2      michael ryan  michael       ryan  Male         Caucasian   \n",
            "2   3       kevon dixon    kevon      dixon  Male  African-American   \n",
            "3   4          ed philo       ed      philo  Male  African-American   \n",
            "4   5       marcu brown    marcu      brown  Male  African-American   \n",
            "\n",
            "                          dob  age          age_cat  juv_fel_count  ...  \\\n",
            "0  1947-04-18 00:00:00.000000   69  Greater than 45              0  ...   \n",
            "1  1985-02-06 00:00:00.000000   31          25 - 45              0  ...   \n",
            "2  1982-01-22 00:00:00.000000   34          25 - 45              0  ...   \n",
            "3  1991-05-14 00:00:00.000000   24     Less than 25              0  ...   \n",
            "4  1993-01-21 00:00:00.000000   23     Less than 25              0  ...   \n",
            "\n",
            "               r_offense_date                r_charge_desc  \\\n",
            "0                        None                         None   \n",
            "1                        None                         None   \n",
            "2  2013-07-05 00:00:00.000000  Felony Battery (Dom Strang)   \n",
            "3  2013-06-16 00:00:00.000000  Driving Under The Influence   \n",
            "4                        None                         None   \n",
            "\n",
            "                    r_jail_in                  r_jail_out is_violent_recid  \\\n",
            "0                        None                        None                0   \n",
            "1                        None                        None                0   \n",
            "2                        None                        None                1   \n",
            "3  2013-06-16 09:05:47.000000  2013-06-16 07:18:55.000000                0   \n",
            "4                        None                        None                0   \n",
            "\n",
            "  num_vr_cases  vr_case_number vr_charge_degree             vr_offense_date  \\\n",
            "0         None            None             None                        None   \n",
            "1         None            None             None                        None   \n",
            "2         None   13009779CF10A             (F3)  2013-07-05 00:00:00.000000   \n",
            "3         None            None             None                        None   \n",
            "4         None            None             None                        None   \n",
            "\n",
            "                vr_charge_desc  \n",
            "0                         None  \n",
            "1                         None  \n",
            "2  Felony Battery (Dom Strang)  \n",
            "3                         None  \n",
            "4                         None  \n",
            "\n",
            "[5 rows x 41 columns]}\n"
          ]
        }
      ]
    },
    {
      "cell_type": "markdown",
      "source": [
        "## Exercise 2: Extract Relevant Data for Kaplan-Meier Analysis\n",
        "\n",
        "In order to successfully extract the necessary data, we need to join information from multiple tables to gather:\n",
        "\n",
        "1. **COMPAS Scores** from the `compas` table (`person_id`, `decile_score`, `score_text` (risk level), `screening_date`).\n",
        "2. **Demographics** from the `people` table (`sex`, `race`, `r_offense_date`).\n",
        "3. **Incarceration Periods** from the `jailhistory` table (`in_custody`, `out_custody`) to filter out times when individuals were incarcerated.\n",
        "\n",
        "*Instructions*:\n",
        "\n",
        "*   Use SQL queries to join these tables on `person_id`\n",
        "*   Extract relevant fields and load the result into a pandas DataFrame.\n",
        "\n",
        "*Note*: Create a `two_year_recid` column by checking if `r_offense_date` is within two years (730 days) from screening_date.\n",
        "\n",
        "*   Set `start` to 0 (representing release date)\n",
        "*   Set end based on whether recidivism occurred within two years:\n",
        "    - If `two_year_recid is`, set `end` to the days until `r_offense_date`.\n",
        "    - If `two_year_recid` is 0, set `end` to 730 days.\n",
        "\n",
        "\n",
        "\n"
      ],
      "metadata": {
        "id": "7pwqtUTRBIGs"
      }
    },
    {
      "cell_type": "code",
      "source": [
        "# Define SQL query to extract and join relevant data\n",
        "# Fill in the relevant data for each table (after table_name. )\n",
        "query = \"\"\"\n",
        "SELECT\n",
        "    compas.person_id ,\n",
        "    compas.decile_score ,\n",
        "    compas.score_text AS risk_level,\n",
        "    compas.screening_date ,\n",
        "    people.sex ,\n",
        "    people.race ,\n",
        "    people.r_offense_date ,\n",
        "    jailhistory.in_custody ,\n",
        "    jailhistory.out_custody\n",
        "FROM\n",
        "    compas\n",
        "LEFT JOIN\n",
        "    people ON compas.person_id = people.id\n",
        "LEFT JOIN\n",
        "    jailhistory ON people.id = jailhistory.person_id\n",
        "\"\"\"\n",
        "\n",
        "# Load data into a DataFrame\n",
        "df = pd.read_sql(query, conn)\n",
        "\n",
        "\n",
        "# Convert dates to datetime format (screening_date, r_offense_date, in_custody, out_custody)\n",
        "df['screening_date'] = pd.to_datetime(df['screening_date'])\n",
        "df['r_offense_date'] = pd.to_datetime(df['r_offense_date'])\n",
        "df['in_custody'] = pd.to_datetime(df['in_custody'])\n",
        "df['out_custody'] = pd.to_datetime(df['out_custody'])\n",
        "\n",
        "\n",
        "# Calculate two_year_recid based on whether recidivism occurred within 2 years\n",
        "# We'll create a new column 'two_year_recid': 1 for recidivated within 2 years, otherwise 0\n",
        "# First check if 'r_offense_date' exists for each row of the data set, then check whether the time between\n",
        "# 'screening_date' and 'r_offense_date' is 730 days or less\n",
        "df['two_year_recid'] = (df['r_offense_date'] - df['screening_date']).dt.days <= 730\n",
        "\n",
        "\n",
        "# Set start time to 0 (create a 'start' column)\n",
        "df['start'] = 0\n",
        "\n",
        "# Define end time based on recidivism status (create an 'end' column)\n",
        "if df['two_year_recid']:\n",
        "    df['end'] = (df['r_offense_date'] - df['screening_date']).dt.days\n",
        "else:\n",
        "    df['end'] = 730\n",
        "\n",
        "\n",
        "\n",
        "# Drop rows with missing essential data: subset of 'screening_date' and 'end'\n",
        "df.dropna(subset=['screening_date', 'end'], inplace=True)\n",
        "\n",
        "# Sort the DataFrame by 'screening_date'\n",
        "df.sort_values(by='screening_date', inplace=True)\n",
        "\n",
        "# Display the first few rows of the prepared DataFrame\n",
        "df.head()\n"
      ],
      "metadata": {
        "id": "bTfjBV6YCHUn",
        "colab": {
          "base_uri": "https://localhost:8080/",
          "height": 400
        },
        "outputId": "0d83d7a2-ec76-404e-ecf0-74de8adbd19b"
      },
      "execution_count": null,
      "outputs": [
        {
          "output_type": "stream",
          "name": "stderr",
          "text": [
            "<ipython-input-36-9882ffba803a>:44: FutureWarning: Series.bool is now deprecated and will be removed in future version of pandas\n",
            "  if df['two_year_recid'].bool():\n"
          ]
        },
        {
          "output_type": "error",
          "ename": "ValueError",
          "evalue": "The truth value of a Series is ambiguous. Use a.empty, a.bool(), a.item(), a.any() or a.all().",
          "traceback": [
            "\u001b[0;31m---------------------------------------------------------------------------\u001b[0m",
            "\u001b[0;31mValueError\u001b[0m                                Traceback (most recent call last)",
            "\u001b[0;32m<ipython-input-36-9882ffba803a>\u001b[0m in \u001b[0;36m<cell line: 44>\u001b[0;34m()\u001b[0m\n\u001b[1;32m     42\u001b[0m \u001b[0;34m\u001b[0m\u001b[0m\n\u001b[1;32m     43\u001b[0m \u001b[0;31m# Define end time based on recidivism status (create an 'end' column)\u001b[0m\u001b[0;34m\u001b[0m\u001b[0;34m\u001b[0m\u001b[0m\n\u001b[0;32m---> 44\u001b[0;31m \u001b[0;32mif\u001b[0m \u001b[0mdf\u001b[0m\u001b[0;34m[\u001b[0m\u001b[0;34m'two_year_recid'\u001b[0m\u001b[0;34m]\u001b[0m\u001b[0;34m.\u001b[0m\u001b[0mbool\u001b[0m\u001b[0;34m(\u001b[0m\u001b[0;34m)\u001b[0m\u001b[0;34m:\u001b[0m\u001b[0;34m\u001b[0m\u001b[0;34m\u001b[0m\u001b[0m\n\u001b[0m\u001b[1;32m     45\u001b[0m     \u001b[0mdf\u001b[0m\u001b[0;34m[\u001b[0m\u001b[0;34m'end'\u001b[0m\u001b[0;34m]\u001b[0m \u001b[0;34m=\u001b[0m \u001b[0;34m(\u001b[0m\u001b[0mdf\u001b[0m\u001b[0;34m[\u001b[0m\u001b[0;34m'r_offense_date'\u001b[0m\u001b[0;34m]\u001b[0m \u001b[0;34m-\u001b[0m \u001b[0mdf\u001b[0m\u001b[0;34m[\u001b[0m\u001b[0;34m'screening_date'\u001b[0m\u001b[0;34m]\u001b[0m\u001b[0;34m)\u001b[0m\u001b[0;34m.\u001b[0m\u001b[0mdt\u001b[0m\u001b[0;34m.\u001b[0m\u001b[0mdays\u001b[0m\u001b[0;34m\u001b[0m\u001b[0;34m\u001b[0m\u001b[0m\n\u001b[1;32m     46\u001b[0m \u001b[0;32melse\u001b[0m\u001b[0;34m:\u001b[0m\u001b[0;34m\u001b[0m\u001b[0;34m\u001b[0m\u001b[0m\n",
            "\u001b[0;32m/usr/local/lib/python3.10/dist-packages/pandas/core/generic.py\u001b[0m in \u001b[0;36mbool\u001b[0;34m(self)\u001b[0m\n\u001b[1;32m   1645\u001b[0m             )\n\u001b[1;32m   1646\u001b[0m \u001b[0;34m\u001b[0m\u001b[0m\n\u001b[0;32m-> 1647\u001b[0;31m         \u001b[0mself\u001b[0m\u001b[0;34m.\u001b[0m\u001b[0m__nonzero__\u001b[0m\u001b[0;34m(\u001b[0m\u001b[0;34m)\u001b[0m\u001b[0;34m\u001b[0m\u001b[0;34m\u001b[0m\u001b[0m\n\u001b[0m\u001b[1;32m   1648\u001b[0m         \u001b[0;31m# for mypy (__nonzero__ raises)\u001b[0m\u001b[0;34m\u001b[0m\u001b[0;34m\u001b[0m\u001b[0m\n\u001b[1;32m   1649\u001b[0m         \u001b[0;32mreturn\u001b[0m \u001b[0;32mTrue\u001b[0m\u001b[0;34m\u001b[0m\u001b[0;34m\u001b[0m\u001b[0m\n",
            "\u001b[0;32m/usr/local/lib/python3.10/dist-packages/pandas/core/generic.py\u001b[0m in \u001b[0;36m__nonzero__\u001b[0;34m(self)\u001b[0m\n\u001b[1;32m   1575\u001b[0m     \u001b[0;34m@\u001b[0m\u001b[0mfinal\u001b[0m\u001b[0;34m\u001b[0m\u001b[0;34m\u001b[0m\u001b[0m\n\u001b[1;32m   1576\u001b[0m     \u001b[0;32mdef\u001b[0m \u001b[0m__nonzero__\u001b[0m\u001b[0;34m(\u001b[0m\u001b[0mself\u001b[0m\u001b[0;34m)\u001b[0m \u001b[0;34m->\u001b[0m \u001b[0mNoReturn\u001b[0m\u001b[0;34m:\u001b[0m\u001b[0;34m\u001b[0m\u001b[0;34m\u001b[0m\u001b[0m\n\u001b[0;32m-> 1577\u001b[0;31m         raise ValueError(\n\u001b[0m\u001b[1;32m   1578\u001b[0m             \u001b[0;34mf\"The truth value of a {type(self).__name__} is ambiguous. \"\u001b[0m\u001b[0;34m\u001b[0m\u001b[0;34m\u001b[0m\u001b[0m\n\u001b[1;32m   1579\u001b[0m             \u001b[0;34m\"Use a.empty, a.bool(), a.item(), a.any() or a.all().\"\u001b[0m\u001b[0;34m\u001b[0m\u001b[0;34m\u001b[0m\u001b[0m\n",
            "\u001b[0;31mValueError\u001b[0m: The truth value of a Series is ambiguous. Use a.empty, a.bool(), a.item(), a.any() or a.all()."
          ]
        }
      ]
    },
    {
      "cell_type": "markdown",
      "source": [
        "## Exercise 3: Kaplan-Meier Analysis for COMPAS Risk Levels\n",
        "\n",
        "1. Use `lifelines` to fit a Kaplan-Meier model for survival analysis.\n",
        "2. Plot the survival curves for different risk levels (`Low`, `Medium`, `High`) to observe the recidivism trends over time.\n",
        "\n",
        "*Note*: Remove rows with missing or \"N/A\" values in the risk level column."
      ],
      "metadata": {
        "id": "NzDtt9f9FBOw"
      }
    },
    {
      "cell_type": "code",
      "source": [
        "# Import KaplanMeierFitter from lifelines\n",
        "from lifelines import KaplanMeierFitter\n",
        "import matplotlib.pyplot as plt\n",
        "\n",
        "# Initialize Kaplan-Meier fitter\n",
        "kmf = KaplanMeierFitter()\n",
        "\n",
        "# Filter out rows with missing or \"N/A\" risk levels (score_text) and limit 'end' to be within 0 to 730 days (.notna() might be helpful!)\n",
        "\n",
        "\n",
        "# Initialize the plot\n",
        "plt.figure(figsize=(10, 6))\n",
        "\n",
        "# Plot Kaplan-Meier curves for each risk level (score_text) fill in *** placeholders\n",
        "kmf = KaplanMeierFitter()\n",
        "for level in df_filtered['***'].unique():\n",
        "    subset = df_filtered[df_filtered['***'] == level]\n",
        "    kmf.fit(durations=subset['***'], event_observed=subset['***'], label=f'***: {level}')\n",
        "    kmf.plot()\n",
        "\n",
        "# Customize the plot\n",
        "plt.title(\"***\")\n",
        "plt.xlabel(\"***\")\n",
        "plt.ylabel(\"***\")\n",
        "plt.xlim(***)  # Set x-axis limit to 0-730\n",
        "plt.xticks(range(***))  # Show ticks from 0 to 730 in intervals of 100 days\n",
        "\n",
        "# Display the plot\n",
        "plt.show()"
      ],
      "metadata": {
        "id": "4pVVY2blFSFa",
        "colab": {
          "base_uri": "https://localhost:8080/",
          "height": 108
        },
        "outputId": "ef302b24-5414-45e4-85be-5a29864d59b4"
      },
      "execution_count": null,
      "outputs": [
        {
          "output_type": "error",
          "ename": "SyntaxError",
          "evalue": "invalid syntax (<ipython-input-32-99930da35897>, line 25)",
          "traceback": [
            "\u001b[0;36m  File \u001b[0;32m\"<ipython-input-32-99930da35897>\"\u001b[0;36m, line \u001b[0;32m25\u001b[0m\n\u001b[0;31m    plt.xlim(***)  # Set x-axis limit to 0-730\u001b[0m\n\u001b[0m               ^\u001b[0m\n\u001b[0;31mSyntaxError\u001b[0m\u001b[0;31m:\u001b[0m invalid syntax\n"
          ]
        }
      ]
    },
    {
      "cell_type": "markdown",
      "source": [
        "## Exercise 4: Kaplan-Meier Analysis by Demographic Groups (Sex)\n",
        "\n",
        "1. Compare Kaplan-Meier curves across sex.\n",
        "2. Compare recidivism rates for female and male individuals across different COMPAS risk levels (Low, Medium, High). This allows us to see how recidivism probabilities differ by both gender and risk classification.\n",
        "\n",
        "Helpful Tips:\n",
        "*   Use two side-by-side subplots to display the curves for the two racial groups separately.\n",
        "*   Ensure both plots span from 0 to 730 days, with x-axis tick marks every 100 days.\n",
        "*   Clearly label each plot with the corresponding racial group, and include legends to show the COMPAS risk levels."
      ],
      "metadata": {
        "id": "C8raZGDJG9jY"
      }
    },
    {
      "cell_type": "code",
      "source": [
        "import matplotlib.pyplot as plt\n",
        "from lifelines import KaplanMeierFitter\n",
        "\n",
        "# Fill in the *** placeholders\n",
        "\n",
        "# Initialize Kaplan-Meier fitter\n",
        "\n",
        "\n",
        "# Initialize subplots for side-by-side display\n",
        "fig, axes = plt.subplots(1, 2, figsize=(14, 6))\n",
        "\n",
        "# Define COMPAS risk levels to iterate over\n",
        "risk_levels = ['***', '***', '***']\n",
        "colors = ['***', '***', '***']  # Colors for each risk level\n",
        "\n",
        "# Plot for Female\n",
        "female_subset = df[df['***'] == '***']\n",
        "for risk, color in zip(risk_levels, colors):\n",
        "    level_data = female_subset[female_subset['***'] == risk] # score_text\n",
        "    kmf.fit(durations=level_data['***'], event_observed=level_data['***'], label=f'***: {risk}')\n",
        "    kmf.plot(ax=axes[0], color=color)\n",
        "axes[0].set_title(\"***\")\n",
        "axes[0].set_xlabel(\"***\")\n",
        "axes[0].set_ylabel(\"***\")\n",
        "axes[0].set_xlim(***)  # Set x-axis limit to 0-730\n",
        "axes[0].set_xticks(range(***))  # Show ticks from 0 to 730 in intervals of 100 days\n",
        "\n",
        "# Plot for Male\n",
        "male_subset = df[df['***'] == '***']\n",
        "for risk, color in zip(risk_levels, colors):\n",
        "    level_data = male_subset[male_subset['***'] == risk] # score_text\n",
        "    kmf.fit(durations=level_data['***'], event_observed=level_data['***'], label=f'***: {risk}')\n",
        "    kmf.plot(ax=axes[1], color=color)\n",
        "axes[1].set_title(\"***\")\n",
        "axes[1].set_xlabel(\"***\")\n",
        "axes[1].set_ylabel(\"***\")\n",
        "axes[1].set_xlim(***)  # Set x-axis limit to 0-730\n",
        "axes[1].set_xticks(range(***))  # Show ticks from 0 to 730 in intervals of 100 days\n",
        "\n",
        "# Adjust layout and add a legend\n",
        "axes[0].legend(title=\"***\")\n",
        "axes[1].legend(title=\"***\")\n",
        "plt.tight_layout()\n",
        "\n",
        "# Display the plots\n",
        "plt.show()\n"
      ],
      "metadata": {
        "id": "hjSxvKrPHKVj"
      },
      "execution_count": null,
      "outputs": []
    },
    {
      "cell_type": "markdown",
      "source": [
        "## Exercise 5: Kaplan-Meier Analysis by Demographic Groups (Race)\n",
        "\n",
        "1. Compare Kaplan-Meier curves across race.\n",
        "2. Compare recidivism rates for two different racial groups, each broken down by COMPAS risk levels (Low, Medium, High). This will help us examine how survival probabilities differ by both race and risk classification.\n",
        "\n",
        "Helpful Tips:\n",
        "*   Use two side-by-side subplots to display the curves for the two racial groups separately.\n",
        "*   Ensure both plots span from 0 to 730 days, with x-axis tick marks every 100 days.\n",
        "*   Clearly label each plot with the corresponding racial group, and include legends to show the COMPAS risk levels.\n",
        "\n",
        "*Note*: Select any two races from the dataset (e.g., Caucasian, African-American, Hispanic, Asian, Other); race strings are case-sensitive. Feel free to try different combinations and observe any trends."
      ],
      "metadata": {
        "id": "co7dQCxaJOOl"
      }
    },
    {
      "cell_type": "code",
      "source": [
        "import matplotlib.pyplot as plt\n",
        "from lifelines import KaplanMeierFitter\n",
        "\n",
        "# Initialize Kaplan-Meier fitter\n",
        "\n",
        "\n",
        "# Initialize subplots for side-by-side display\n",
        "fig, axes = plt.subplots(1, 2, figsize=(14, 6))\n",
        "\n",
        "# Define the two racial groups you want to compare (feel free to change these; CASE-SENSITIVE)\n",
        "race1 = '***'\n",
        "race2 = '***'\n",
        "\n",
        "# Define COMPAS risk levels to iterate over\n",
        "risk_levels = ['***', '***', '***']\n",
        "colors = ['***', '***', '***']  # Colors for each risk level\n",
        "\n",
        "# Plot for the first racial group\n",
        "race1_subset = df[df['***'] == race1]\n",
        "for risk, color in zip(risk_levels, colors):\n",
        "    level_data = race1_subset[race1_subset['***'] == risk] # score_text\n",
        "    kmf.fit(durations=level_data['***'], event_observed=level_data['***'], label=f'***: {risk}')\n",
        "    kmf.plot(ax=axes[0], color=color)\n",
        "axes[0].set_title(f\"***\")\n",
        "axes[0].set_xlabel(\"***\")\n",
        "axes[0].set_ylabel(\"***\")\n",
        "axes[0].set_xlim(***)  # Set x-axis limit to 0-730\n",
        "axes[0].set_xticks(range(***))  # Show ticks from 0 to 730 in intervals of 100 days\n",
        "\n",
        "# Plot for the second racial group\n",
        "race2_subset = df[df['***'] == race2]\n",
        "for risk, color in zip(risk_levels, colors):\n",
        "    level_data = race2_subset[race2_subset['***'] == risk] # score_text\n",
        "    kmf.fit(durations=level_data['***'], event_observed=level_data['***'], label=f'***: {risk}')\n",
        "    kmf.plot(ax=axes[1], color=color)\n",
        "axes[1].set_title(f\"***\")\n",
        "axes[1].set_xlabel(\"***\")\n",
        "axes[1].set_ylabel(\"***\")\n",
        "axes[1].set_xlim(***)  # Set x-axis limit to 0-730\n",
        "axes[1].set_xticks(range(***))  # Show ticks from 0 to 730 in intervals of 100 days\n",
        "\n",
        "# Adjust layout and add a legend\n",
        "axes[0].legend(title=\"***\")\n",
        "axes[1].legend(title=\"***\")\n",
        "plt.tight_layout()\n",
        "\n",
        "# Display the plots\n",
        "plt.show()\n"
      ],
      "metadata": {
        "id": "o69dyHHxJZ4S"
      },
      "execution_count": null,
      "outputs": []
    },
    {
      "cell_type": "markdown",
      "source": [
        "\n",
        "## Exercise 5: Calculate Median Survival Times\n",
        "\n",
        "**Objective**: Calculate the median survival time, which indicates the time at which 50% of the population has recidivated.\n",
        "\n",
        "1. First, calculate the median survival time for the entire dataset. This gives a general benchmark of when half of the population has recidivated.\n",
        "2. Then, calculate the median survival time for each COMPAS risk level (e.g., Low, Medium, High). This allows us to see if there are significant differences in the timing or recidivism between risk groups.\n",
        "\n",
        "*Note*: Filter out entries with 'N/A' in the `score_text` column if needed."
      ],
      "metadata": {
        "id": "4Yty8u0WNOol"
      }
    },
    {
      "cell_type": "code",
      "source": [
        "from lifelines import KaplanMeierFitter\n",
        "\n",
        "# Fill in the *** placeholders\n",
        "\n",
        "# Filter out entries with 'N/A' in the 'score_text' column\n",
        "df = df[df['***'] != '***']\n",
        "\n",
        "# Initialize the Kaplan-Meier fitter\n",
        "\n",
        "\n",
        "# Calculate median survival time for the entire dataset\n",
        "kmf.fit(durations=df['***'], event_observed=df['***'])\n",
        "median_survival = kmf.median_survival_time_\n",
        "\n",
        "# Print out the median survival times\n",
        "\n",
        "\n",
        "# Median survival times by risk level\n",
        "for level in df['***'].unique():  # Adjust if 'score_text' is the correct column for risk level\n",
        "    subset = df[df['***'] == level]\n",
        "    kmf.fit(durations=subset['***'], event_observed=subset['***'])\n",
        "    median_survival = kmf.median_survival_time_\n",
        "\n",
        "    # Print these out to visualize the differences (use fstrings!)\n"
      ],
      "metadata": {
        "id": "J5HX9liWW9l1"
      },
      "execution_count": null,
      "outputs": []
    },
    {
      "cell_type": "markdown",
      "source": [
        "## Exercise 6: Interpret the Results\n",
        "\n",
        "**Objective**: Reflect on and interpret the Kaplan-Meier analysis results:\n",
        "1. How does the recidivism rate change across different COMPAS risk levels?\n",
        "    - Observe the median survival times for each risk level. Does the median survival time decrease as the risk level increases (i.e., High risk has a shorter median survival time than Low risk)?\n",
        "\n",
        "2. Are there any noticeable differences in recidivism rates among gender or racial groups?\n",
        "    - Compare the Kaplan-Meier curves and survival probabilities for different genders and racial groups from earlier exercises. Do certain groups recidivate faster than others?\n"
      ],
      "metadata": {
        "id": "Pg82NTvlXV3Z"
      }
    },
    {
      "cell_type": "markdown",
      "source": [
        "1. High-Risk Group: Median survival time is 272 days, which indicates that half of the individuals in this group reoffend within about 9 months after release. This suggests a high recidivism rate among high-risk individuals.\n",
        "\n",
        "  Medium-Risk Group: Median survival time is 431 days, meaning this group takes longer to reach the 50% recidivism mark compared to the high-risk group, which is expected.\n",
        "\n",
        "  Low-Risk Group: Median survival time is \"infinity,\" implying that fewer than 50% of low-risk individuals reoffend within the two-year observation period. This is consistent with their lower risk classification.\n",
        "\n",
        "2. Gender: The survival probabilities likely reveal that men recidivate at a higher rate and earlier time points compared to women. Men in the high-risk group may show a faster decline in survival probability, suggesting they are more prone to reoffend. For women, even in the high-risk group, the survival probability may decrease at a slower rate than men.\n",
        "\n",
        "  Race: If we compare different racial groups (e.g., Caucasian and African-American), the curves may indicate disparities. For instance, African-American individuals may exhibit a higher rate of recidivism in similar risk categories compared to Caucasian individuals, potentially highlighting racial disparities. This could be due to a range of socio-economic factors and historical biases that may influence both the likelihood of reoffending and the assessment itself."
      ],
      "metadata": {
        "id": "oIqmfy_nYEk_"
      }
    },
    {
      "cell_type": "code",
      "source": [
        "# Cool plot that displays every race in this dataset\n",
        "# Initialize the plot\n",
        "plt.figure(figsize=(10, 6))\n",
        "\n",
        "# Plot Kaplan-Meier curves for each race\n",
        "for race in df['race'].unique():\n",
        "    subset = df[df['race'] == race]\n",
        "    kmf.fit(durations=subset['end'], event_observed=subset['two_year_recid'], label=f'Race: {race}')\n",
        "    kmf.plot()\n",
        "\n",
        "# Customize the plot\n",
        "plt.title(\"Kaplan-Meier Curve by Race (0 to 730 Days)\")\n",
        "plt.xlabel(\"Days since Screening\")\n",
        "plt.ylabel(\"Survival Probability (No Recidivism)\")\n",
        "plt.xlim(0, 730)  # Set x-axis limit to 0-730\n",
        "plt.xticks(range(0, 731, 100))  # Show ticks from 0 to 730 in intervals of 100 days\n",
        "\n",
        "# Display the plot\n",
        "plt.show()\n"
      ],
      "metadata": {
        "id": "y5X7GIQjH5rQ"
      },
      "execution_count": null,
      "outputs": []
    }
  ]
}